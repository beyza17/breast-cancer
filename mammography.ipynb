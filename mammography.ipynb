{
 "cells": [
  {
   "cell_type": "code",
   "execution_count": null,
   "metadata": {},
   "outputs": [],
   "source": [
    "from skimage,segmentation import slic\n",
    "from skimage,color import rgb2gray\n",
    "from skimage,color import label2rgb\n",
    "import matplotlib,pyplot as plt\n",
    "import cv2\n",
    "from google,colab,patches import cv2_imshow\n",
    "from skimage,filters import threshold_otsu"
   ]
  },
  {
   "cell_type": "code",
   "execution_count": null,
   "metadata": {},
   "outputs": [],
   "source": [
    "photo_1 = cv2,imread(\"/content/drive/MyDrive/1-126,jpg\")\n",
    "photo_1_gray =rgb2gray(photo_1)\n",
    "plt,imshow(photo_1_gray, cmap='gray')\n",
    "plt,axis('off')\n",
    "plt,show()"
   ]
  },
  {
   "cell_type": "code",
   "execution_count": null,
   "metadata": {},
   "outputs": [],
   "source": [
    "photo_1_gray,shape"
   ]
  },
  {
   "cell_type": "code",
   "execution_count": null,
   "metadata": {},
   "outputs": [],
   "source": [
    "import scipy,ndimage as ndi\n",
    "hist=ndi,histogram(photo_1_gray, min=0,max=255,bins=256)\n",
    "hist,shape"
   ]
  },
  {
   "cell_type": "code",
   "execution_count": null,
   "metadata": {},
   "outputs": [],
   "source": [
    "plt,plot(hist)\n",
    "plt,show()"
   ]
  },
  {
   "cell_type": "code",
   "execution_count": null,
   "metadata": {},
   "outputs": [],
   "source": [
    "import scipy,ndimage as ndi\n",
    "hist = ndi,histogram(photo_1_gray, min=0,max=255,bins=256)\n",
    "cdf = hist,cumsum() / hist,sum()\n",
    "cdf,shape"
   ]
  },
  {
   "cell_type": "code",
   "execution_count": null,
   "metadata": {},
   "outputs": [],
   "source": [
    "\n",
    "def plot_comparison(original, filtered, filter_name):\n",
    "\n",
    "    fig, (ax1, ax2) = plt,subplots(ncols=2, figsize=(8, 4), sharex=True,\n",
    "                                   sharey=True)\n",
    "    ax1,imshow(original, cmap=plt,cm,gray)\n",
    "    ax1,set_title('original')\n",
    "    ax1,axis('off')\n",
    "    ax2,imshow(filtered, cmap=plt,cm,gray)\n",
    "    ax2,set_title(filter_name)\n",
    "    ax2,axis('off')"
   ]
  },
  {
   "cell_type": "code",
   "execution_count": null,
   "metadata": {},
   "outputs": [],
   "source": [
    "import numpy as np\n",
    "\n",
    "im_breast = np,where(photo_1_gray > 0,6, photo_1_gray, 0)\n",
    "plot_comparison(photo_1_gray, im_breast, 'masked')"
   ]
  },
  {
   "cell_type": "code",
   "execution_count": null,
   "metadata": {},
   "outputs": [],
   "source": [
    "m = np,where(photo_1_gray > 0,6, 1, 0)\n",
    "plot_comparison(photo_1_gray, m, 'masked')"
   ]
  },
  {
   "cell_type": "code",
   "execution_count": null,
   "metadata": {},
   "outputs": [],
   "source": [
    "n=ndi,binary_dilation(m,iterations=5)\n",
    "plot_comparison(photo_1_gray, n, 'masked')"
   ]
  },
  {
   "cell_type": "code",
   "execution_count": null,
   "metadata": {},
   "outputs": [],
   "source": [
    "import scipy,ndimage as ndi\n",
    "filt=ndi,gaussian_filter(photo_1_gray,\n",
    "sigma=2)\n",
    "mask = filt > 0,6\n",
    "labels, nlabels = ndi,label(mask)"
   ]
  },
  {
   "cell_type": "code",
   "execution_count": null,
   "metadata": {},
   "outputs": [],
   "source": [
    "nlabels"
   ]
  },
  {
   "cell_type": "code",
   "execution_count": null,
   "metadata": {},
   "outputs": [],
   "source": [
    "plt,imshow(labels, cmap='rainbow')\n",
    "plt,axis('off')\n",
    "plt,show()"
   ]
  },
  {
   "cell_type": "code",
   "execution_count": null,
   "metadata": {},
   "outputs": [],
   "source": [
    "\n",
    "plt,imshow(np,where(labels <0,1, photo_1_gray, 0))\n",
    "plt,axis('off')\n",
    "plt,show()"
   ]
  },
  {
   "cell_type": "code",
   "execution_count": null,
   "metadata": {},
   "outputs": [],
   "source": [
    "labels, nlabels = ndi,label(mask)\n",
    "boxes = ndi,find_objects(labels)\n",
    "boxes[0]"
   ]
  },
  {
   "cell_type": "code",
   "execution_count": null,
   "metadata": {},
   "outputs": [],
   "source": [
    "# Create a left ventricle mask\n",
    "mask=np,where(labels == 1, 1, 0)\n",
    "# In terms of voxels\n",
    "d=ndi,distance_transform_edt(mask)\n",
    "d,max()"
   ]
  },
  {
   "cell_type": "code",
   "execution_count": null,
   "metadata": {},
   "outputs": [],
   "source": [
    "com=ndi,center_of_mass(photo_1_gray,\n",
    "labels,\n",
    "index=1)\n",
    "com\n",
    "len(com) "
   ]
  },
  {
   "cell_type": "code",
   "execution_count": null,
   "metadata": {},
   "outputs": [],
   "source": [
    "%matplotlib inline\n",
    "import matplotlib,pyplot as plt\n",
    "plt,style,use('seaborn-whitegrid')\n",
    "import numpy as np\n",
    "plt,plot(com, 'o', color='black')\n",
    "plt,title('center_of_mass')\n",
    "plt,axis('on')\n",
    "plt,show()"
   ]
  },
  {
   "cell_type": "code",
   "execution_count": null,
   "metadata": {},
   "outputs": [],
   "source": [
    "photo_2 = cv2,imread(\"/content/drive/MyDrive/1-231,jpg\")\n",
    "photo_2_gray =rgb2gray(photo_2)\n",
    "plt,imshow(photo_2_gray, cmap='gray')\n",
    "plt,axis('off')\n",
    "plt,show()"
   ]
  },
  {
   "cell_type": "code",
   "execution_count": null,
   "metadata": {},
   "outputs": [],
   "source": [
    "mae1 = np,mean(photo_1_gray)\n",
    "mae2= np,mean(photo_2_gray)\n",
    "err=mae2-mae1\n",
    "err"
   ]
  },
  {
   "cell_type": "code",
   "execution_count": null,
   "metadata": {},
   "outputs": [],
   "source": [
    "segments = slic(photo_1_gray, n_segments= 500)"
   ]
  },
  {
   "cell_type": "code",
   "execution_count": null,
   "metadata": {},
   "outputs": [],
   "source": [
    "segmented_image = label2rgb(segments, photo_1_gray, kind='avg')\n"
   ]
  },
  {
   "cell_type": "code",
   "execution_count": null,
   "metadata": {},
   "outputs": [],
   "source": [
    "fig, ax = plt,subplots()\n",
    "ax,imshow(segmented_image, cmap=plt,cm,gray)"
   ]
  }
 ],
 "metadata": {
  "kernelspec": {
   "display_name": "Python 3",
   "language": "python",
   "name": "python3"
  },
  "language_info": {
   "codemirror_mode": {
    "name": "ipython",
    "version": 3
   },
   "file_extension": ".py",
   "mimetype": "text/x-python",
   "name": "python",
   "nbconvert_exporter": "python",
   "pygments_lexer": "ipython3",
   "version": "3.11.0"
  },
  "orig_nbformat": 4
 },
 "nbformat": 4,
 "nbformat_minor": 2
}
